{
  "nbformat": 4,
  "nbformat_minor": 0,
  "metadata": {
    "colab": {
      "name": "start.ipynb",
      "version": "0.3.2",
      "provenance": [],
      "include_colab_link": true
    },
    "kernelspec": {
      "name": "python3",
      "display_name": "Python 3"
    }
  },
  "cells": [
    {
      "cell_type": "markdown",
      "metadata": {
        "id": "view-in-github",
        "colab_type": "text"
      },
      "source": [
        "<a href=\"https://colab.research.google.com/github/wolfram-roemhild/dcgan/blob/master/start.ipynb\" target=\"_parent\"><img src=\"https://colab.research.google.com/assets/colab-badge.svg\" alt=\"Open In Colab\"/></a>"
      ]
    },
    {
      "metadata": {
        "id": "Lhf4K8M8IWp5",
        "colab_type": "code",
        "colab": {
          "base_uri": "https://localhost:8080/",
          "height": 189
        },
        "outputId": "b799d136-55f9-433e-b76a-71964cfbc85b"
      },
      "cell_type": "code",
      "source": [
        "!git clone https://github.com/wolfram-roemhild/dcgan start\n",
        "!ls"
      ],
      "execution_count": 1,
      "outputs": [
        {
          "output_type": "stream",
          "text": [
            "Cloning into 'start'...\n",
            "remote: Enumerating objects: 9, done.\u001b[K\n",
            "remote: Counting objects: 100% (9/9), done.\u001b[K\n",
            "remote: Compressing objects: 100% (9/9), done.\u001b[K\n",
            "remote: Total 242 (delta 3), reused 0 (delta 0), pack-reused 233\u001b[K\n",
            "Receiving objects: 100% (242/242), 1.85 MiB | 18.92 MiB/s, done.\n",
            "Resolving deltas: 100% (77/77), done.\n",
            "sample_data  start\n"
          ],
          "name": "stdout"
        }
      ]
    },
    {
      "metadata": {
        "id": "9Z7SfMHxJQmJ",
        "colab_type": "code",
        "colab": {
          "base_uri": "https://localhost:8080/",
          "height": 81
        },
        "outputId": "7bc941ec-5cc6-4823-a58a-0c755ffe378e"
      },
      "cell_type": "code",
      "source": [
        "!cp -r start/* .\n",
        "!ls"
      ],
      "execution_count": 4,
      "outputs": [
        {
          "output_type": "stream",
          "text": [
            "download.py  main.py   README.md    start\t utils.py\n",
            "img\t     model.py  sample_data  start.ipynb\n"
          ],
          "name": "stdout"
        }
      ]
    },
    {
      "metadata": {
        "id": "irgMSA3yKQhj",
        "colab_type": "code",
        "colab": {
          "base_uri": "https://localhost:8080/",
          "height": 63
        },
        "outputId": "9c59a08e-c68b-4594-dca5-78a8d046aa43"
      },
      "cell_type": "code",
      "source": [
        "!python download.py celebA"
      ],
      "execution_count": 5,
      "outputs": [
        {
          "output_type": "stream",
          "text": [
            "./data/img_align_celeba.zip: 44.1kB [00:12, 3.47kB/s]\n"
          ],
          "name": "stdout"
        }
      ]
    },
    {
      "metadata": {
        "id": "YWxvVimuLvxl",
        "colab_type": "code",
        "colab": {}
      },
      "cell_type": "code",
      "source": [
        ""
      ],
      "execution_count": 0,
      "outputs": []
    },
    {
      "metadata": {
        "id": "W9_jdDDFLBNk",
        "colab_type": "code",
        "colab": {
          "base_uri": "https://localhost:8080/",
          "height": 585
        },
        "outputId": "2db3bfa6-0052-4397-8a57-1eba36d3b295"
      },
      "cell_type": "code",
      "source": [
        "!pip install tensorlayer"
      ],
      "execution_count": 11,
      "outputs": [
        {
          "output_type": "stream",
          "text": [
            "Requirement already satisfied: tensorlayer in /usr/local/lib/python3.6/dist-packages (1.11.1)\n",
            "Requirement already satisfied: scikit-learn<0.21,>=0.19 in /usr/local/lib/python3.6/dist-packages (from tensorlayer) (0.20.2)\n",
            "Requirement already satisfied: matplotlib<3.1,>=2.2 in /usr/local/lib/python3.6/dist-packages (from tensorlayer) (3.0.2)\n",
            "Requirement already satisfied: requests<2.21,>=2.19 in /usr/local/lib/python3.6/dist-packages (from tensorlayer) (2.20.1)\n",
            "Requirement already satisfied: numpy<1.16,>=1.14 in /usr/local/lib/python3.6/dist-packages (from tensorlayer) (1.14.6)\n",
            "Requirement already satisfied: scikit-image<0.15,>=0.14 in /usr/local/lib/python3.6/dist-packages (from tensorlayer) (0.14.1)\n",
            "Requirement already satisfied: wrapt<1.11,>=1.10 in /usr/local/lib/python3.6/dist-packages (from tensorlayer) (1.10.11)\n",
            "Requirement already satisfied: scipy<1.2,>=1.1 in /usr/local/lib/python3.6/dist-packages (from tensorlayer) (1.1.0)\n",
            "Requirement already satisfied: imageio<2.5,>=2.3 in /usr/local/lib/python3.6/dist-packages (from tensorlayer) (2.4.1)\n",
            "Requirement already satisfied: lxml<4.3,>=4.2 in /usr/local/lib/python3.6/dist-packages (from tensorlayer) (4.2.6)\n",
            "Requirement already satisfied: progressbar2<3.39,>=3.38 in /usr/local/lib/python3.6/dist-packages (from tensorlayer) (3.38.0)\n",
            "Requirement already satisfied: tqdm<4.29,>=4.23 in /usr/local/lib/python3.6/dist-packages (from tensorlayer) (4.28.1)\n",
            "Requirement already satisfied: python-dateutil>=2.1 in /usr/local/lib/python3.6/dist-packages (from matplotlib<3.1,>=2.2->tensorlayer) (2.5.3)\n",
            "Requirement already satisfied: kiwisolver>=1.0.1 in /usr/local/lib/python3.6/dist-packages (from matplotlib<3.1,>=2.2->tensorlayer) (1.0.1)\n",
            "Requirement already satisfied: cycler>=0.10 in /usr/local/lib/python3.6/dist-packages (from matplotlib<3.1,>=2.2->tensorlayer) (0.10.0)\n",
            "Requirement already satisfied: pyparsing!=2.0.4,!=2.1.2,!=2.1.6,>=2.0.1 in /usr/local/lib/python3.6/dist-packages (from matplotlib<3.1,>=2.2->tensorlayer) (2.3.0)\n",
            "Requirement already satisfied: urllib3<1.25,>=1.21.1 in /usr/local/lib/python3.6/dist-packages (from requests<2.21,>=2.19->tensorlayer) (1.22)\n",
            "Requirement already satisfied: idna<2.8,>=2.5 in /usr/local/lib/python3.6/dist-packages (from requests<2.21,>=2.19->tensorlayer) (2.6)\n",
            "Requirement already satisfied: chardet<3.1.0,>=3.0.2 in /usr/local/lib/python3.6/dist-packages (from requests<2.21,>=2.19->tensorlayer) (3.0.4)\n",
            "Requirement already satisfied: certifi>=2017.4.17 in /usr/local/lib/python3.6/dist-packages (from requests<2.21,>=2.19->tensorlayer) (2018.11.29)\n",
            "Requirement already satisfied: networkx>=1.8 in /usr/local/lib/python3.6/dist-packages (from scikit-image<0.15,>=0.14->tensorlayer) (2.2)\n",
            "Requirement already satisfied: PyWavelets>=0.4.0 in /usr/local/lib/python3.6/dist-packages (from scikit-image<0.15,>=0.14->tensorlayer) (1.0.1)\n",
            "Requirement already satisfied: cloudpickle>=0.2.1 in /usr/local/lib/python3.6/dist-packages (from scikit-image<0.15,>=0.14->tensorlayer) (0.6.1)\n",
            "Requirement already satisfied: pillow>=4.3.0 in /usr/local/lib/python3.6/dist-packages (from scikit-image<0.15,>=0.14->tensorlayer) (5.4.0)\n",
            "Requirement already satisfied: dask[array]>=0.9.0 in /usr/local/lib/python3.6/dist-packages (from scikit-image<0.15,>=0.14->tensorlayer) (0.20.2)\n",
            "Requirement already satisfied: six>=1.10.0 in /usr/local/lib/python3.6/dist-packages (from scikit-image<0.15,>=0.14->tensorlayer) (1.11.0)\n",
            "Requirement already satisfied: python-utils>=2.3.0 in /usr/local/lib/python3.6/dist-packages (from progressbar2<3.39,>=3.38->tensorlayer) (2.3.0)\n",
            "Requirement already satisfied: setuptools in /usr/local/lib/python3.6/dist-packages (from kiwisolver>=1.0.1->matplotlib<3.1,>=2.2->tensorlayer) (40.6.3)\n",
            "Requirement already satisfied: decorator>=4.3.0 in /usr/local/lib/python3.6/dist-packages (from networkx>=1.8->scikit-image<0.15,>=0.14->tensorlayer) (4.3.0)\n",
            "Requirement already satisfied: toolz>=0.7.3; extra == \"array\" in /usr/local/lib/python3.6/dist-packages (from dask[array]>=0.9.0->scikit-image<0.15,>=0.14->tensorlayer) (0.9.0)\n"
          ],
          "name": "stdout"
        }
      ]
    },
    {
      "metadata": {
        "id": "SILb7PVrK2Hd",
        "colab_type": "code",
        "colab": {
          "base_uri": "https://localhost:8080/",
          "height": 3851
        },
        "outputId": "0e9b2181-c769-4578-d9a4-ddd017ba4f71"
      },
      "cell_type": "code",
      "source": [
        "!python main.py"
      ],
      "execution_count": 12,
      "outputs": [
        {
          "output_type": "stream",
          "text": [
            "\"epoch\": 25\n",
            "\"learning_rate\": 0.0002\n",
            "\"beta1\": 0.5\n",
            "\"train_size\": inf\n",
            "\"batch_size\": 64\n",
            "\"image_size\": 108\n",
            "\"output_size\": 64\n",
            "\"sample_size\": 64\n",
            "\"c_dim\": 3\n",
            "\"sample_step\": 500\n",
            "\"save_step\": 500\n",
            "\"dataset\": celebA\n",
            "\"checkpoint_dir\": checkpoint\n",
            "\"sample_dir\": samples\n",
            "\"is_train\": False\n",
            "\"is_crop\": True\n",
            "\"visualize\": False\n",
            "\"h\": False\n",
            "\"help\": False\n",
            "\"helpfull\": False\n",
            "\"helpshort\": False\n",
            "--------------------\n",
            "Traceback (most recent call last):\n",
            "  File \"/usr/local/lib/python3.6/dist-packages/tensorflow/python/client/session.py\", line 1334, in _do_call\n",
            "    return fn(*args)\n",
            "  File \"/usr/local/lib/python3.6/dist-packages/tensorflow/python/client/session.py\", line 1319, in _run_fn\n",
            "    options, feed_dict, fetch_list, target_list, run_metadata)\n",
            "  File \"/usr/local/lib/python3.6/dist-packages/tensorflow/python/client/session.py\", line 1407, in _call_tf_sessionrun\n",
            "    run_metadata)\n",
            "tensorflow.python.framework.errors_impl.InvalidArgumentError: Cannot assign a device for operation generator/g/h0/lin/W/Initializer/truncated_normal/TruncatedNormal: Could not satisfy explicit device specification '' because the node {{colocation_node generator/g/h0/lin/W/Initializer/truncated_normal/TruncatedNormal}} was colocated with a group of nodes that required incompatible device '/device:GPU:0'\n",
            "Colocation Debug Info:\n",
            "Colocation group had the following types and devices: \n",
            "TruncatedNormal: CPU XLA_CPU \n",
            "Add: CPU XLA_CPU \n",
            "VariableV2: CPU \n",
            "Fill: CPU XLA_CPU \n",
            "Const: CPU XLA_CPU \n",
            "Mul: CPU XLA_CPU \n",
            "Assign: CPU \n",
            "\n",
            "Colocation members and user-requested devices:\n",
            "  generator/g/h0/lin/W/Initializer/truncated_normal/shape (Const) \n",
            "  generator/g/h0/lin/W/Initializer/truncated_normal/mean (Const) \n",
            "  generator/g/h0/lin/W/Initializer/truncated_normal/stddev (Const) \n",
            "  generator/g/h0/lin/W/Initializer/truncated_normal/TruncatedNormal (TruncatedNormal) \n",
            "  generator/g/h0/lin/W/Initializer/truncated_normal/mul (Mul) \n",
            "  generator/g/h0/lin/W/Initializer/truncated_normal (Add) \n",
            "  generator/g/h0/lin/W (VariableV2) /device:GPU:0\n",
            "  generator/g/h0/lin/W/Assign (Assign) /device:GPU:0\n",
            "  generator/g/h0/lin/W/Adam/Initializer/zeros/shape_as_tensor (Const) /device:GPU:0\n",
            "  generator/g/h0/lin/W/Adam/Initializer/zeros/Const (Const) /device:GPU:0\n",
            "  generator/g/h0/lin/W/Adam/Initializer/zeros (Fill) /device:GPU:0\n",
            "  generator/g/h0/lin/W/Adam (VariableV2) /device:GPU:0\n",
            "  generator/g/h0/lin/W/Adam/Assign (Assign) /device:GPU:0\n",
            "  generator/g/h0/lin/W/Adam_1/Initializer/zeros/shape_as_tensor (Const) /device:GPU:0\n",
            "  generator/g/h0/lin/W/Adam_1/Initializer/zeros/Const (Const) /device:GPU:0\n",
            "  generator/g/h0/lin/W/Adam_1/Initializer/zeros (Fill) /device:GPU:0\n",
            "  generator/g/h0/lin/W/Adam_1 (VariableV2) /device:GPU:0\n",
            "  generator/g/h0/lin/W/Adam_1/Assign (Assign) /device:GPU:0\n",
            "\n",
            "\t [[{{node generator/g/h0/lin/W/Initializer/truncated_normal/TruncatedNormal}} = TruncatedNormal[T=DT_INT32, _class=[\"loc:@generator/g/h0/lin/W\"], dtype=DT_FLOAT, seed=0, seed2=0](generator/g/h0/lin/W/Initializer/truncated_normal/shape)]]\n",
            "\n",
            "During handling of the above exception, another exception occurred:\n",
            "\n",
            "Traceback (most recent call last):\n",
            "  File \"main.py\", line 182, in <module>\n",
            "    tf.app.run()\n",
            "  File \"/usr/local/lib/python3.6/dist-packages/tensorflow/python/platform/app.py\", line 125, in run\n",
            "    _sys.exit(main(argv))\n",
            "  File \"main.py\", line 104, in main\n",
            "    sess.run(tf.global_variables_initializer())\n",
            "  File \"/usr/local/lib/python3.6/dist-packages/tensorflow/python/client/session.py\", line 929, in run\n",
            "    run_metadata_ptr)\n",
            "  File \"/usr/local/lib/python3.6/dist-packages/tensorflow/python/client/session.py\", line 1152, in _run\n",
            "    feed_dict_tensor, options, run_metadata)\n",
            "  File \"/usr/local/lib/python3.6/dist-packages/tensorflow/python/client/session.py\", line 1328, in _do_run\n",
            "    run_metadata)\n",
            "  File \"/usr/local/lib/python3.6/dist-packages/tensorflow/python/client/session.py\", line 1348, in _do_call\n",
            "    raise type(e)(node_def, op, message)\n",
            "tensorflow.python.framework.errors_impl.InvalidArgumentError: Cannot assign a device for operation generator/g/h0/lin/W/Initializer/truncated_normal/TruncatedNormal: Could not satisfy explicit device specification '' because the node node generator/g/h0/lin/W/Initializer/truncated_normal/TruncatedNormal (defined at /usr/local/lib/python3.6/dist-packages/tensorlayer/layers/dense/base_dense.py:90) having device Device assignments active during op 'generator/g/h0/lin/W/Initializer/truncated_normal/TruncatedNormal' creation:\n",
            "  with tf.device(None): </usr/local/lib/python3.6/dist-packages/tensorflow/python/ops/variables.py:1435>\n",
            "  with tf.device(/gpu:0): <main.py:65>  was colocated with a group of nodes that required incompatible device '/device:GPU:0'\n",
            "Colocation Debug Info:\n",
            "Colocation group had the following types and devices: \n",
            "TruncatedNormal: CPU XLA_CPU \n",
            "Add: CPU XLA_CPU \n",
            "VariableV2: CPU \n",
            "Fill: CPU XLA_CPU \n",
            "Const: CPU XLA_CPU \n",
            "Mul: CPU XLA_CPU \n",
            "Assign: CPU \n",
            "\n",
            "Colocation members and user-requested devices:\n",
            "  generator/g/h0/lin/W/Initializer/truncated_normal/shape (Const) \n",
            "  generator/g/h0/lin/W/Initializer/truncated_normal/mean (Const) \n",
            "  generator/g/h0/lin/W/Initializer/truncated_normal/stddev (Const) \n",
            "  generator/g/h0/lin/W/Initializer/truncated_normal/TruncatedNormal (TruncatedNormal) \n",
            "  generator/g/h0/lin/W/Initializer/truncated_normal/mul (Mul) \n",
            "  generator/g/h0/lin/W/Initializer/truncated_normal (Add) \n",
            "  generator/g/h0/lin/W (VariableV2) /device:GPU:0\n",
            "  generator/g/h0/lin/W/Assign (Assign) /device:GPU:0\n",
            "  generator/g/h0/lin/W/Adam/Initializer/zeros/shape_as_tensor (Const) /device:GPU:0\n",
            "  generator/g/h0/lin/W/Adam/Initializer/zeros/Const (Const) /device:GPU:0\n",
            "  generator/g/h0/lin/W/Adam/Initializer/zeros (Fill) /device:GPU:0\n",
            "  generator/g/h0/lin/W/Adam (VariableV2) /device:GPU:0\n",
            "  generator/g/h0/lin/W/Adam/Assign (Assign) /device:GPU:0\n",
            "  generator/g/h0/lin/W/Adam_1/Initializer/zeros/shape_as_tensor (Const) /device:GPU:0\n",
            "  generator/g/h0/lin/W/Adam_1/Initializer/zeros/Const (Const) /device:GPU:0\n",
            "  generator/g/h0/lin/W/Adam_1/Initializer/zeros (Fill) /device:GPU:0\n",
            "  generator/g/h0/lin/W/Adam_1 (VariableV2) /device:GPU:0\n",
            "  generator/g/h0/lin/W/Adam_1/Assign (Assign) /device:GPU:0\n",
            "\n",
            "\t [[node generator/g/h0/lin/W/Initializer/truncated_normal/TruncatedNormal (defined at /usr/local/lib/python3.6/dist-packages/tensorlayer/layers/dense/base_dense.py:90)  = TruncatedNormal[T=DT_INT32, _class=[\"loc:@generator/g/h0/lin/W\"], dtype=DT_FLOAT, seed=0, seed2=0](generator/g/h0/lin/W/Initializer/truncated_normal/shape)]]\n",
            "\n",
            "No node-device colocations were active during op 'generator/g/h0/lin/W/Initializer/truncated_normal/TruncatedNormal' creation.\n",
            "Device assignments active during op 'generator/g/h0/lin/W/Initializer/truncated_normal/TruncatedNormal' creation:\n",
            "  with tf.device(None): </usr/local/lib/python3.6/dist-packages/tensorflow/python/ops/variables.py:1435>\n",
            "  with tf.device(/gpu:0): <main.py:65>\n",
            "\n",
            "Caused by op 'generator/g/h0/lin/W/Initializer/truncated_normal/TruncatedNormal', defined at:\n",
            "  File \"main.py\", line 182, in <module>\n",
            "    tf.app.run()\n",
            "  File \"/usr/local/lib/python3.6/dist-packages/tensorflow/python/platform/app.py\", line 125, in run\n",
            "    _sys.exit(main(argv))\n",
            "  File \"main.py\", line 72, in main\n",
            "    net_g = generator(z, is_train=True, reuse=False)\n",
            "  File \"/content/model.py\", line 28, in generator\n",
            "    act = tf.identity, name='g/h0/lin')\n",
            "  File \"/usr/local/lib/python3.6/dist-packages/tensorlayer/decorators/deprecated_alias.py\", line 24, in wrapper\n",
            "    return f(*args, **kwargs)\n",
            "  File \"/usr/local/lib/python3.6/dist-packages/tensorlayer/layers/dense/base_dense.py\", line 90, in __init__\n",
            "    name='W', shape=(n_in, n_units), initializer=W_init, dtype=LayersConfig.tf_dtype, **self.W_init_args\n",
            "  File \"/usr/local/lib/python3.6/dist-packages/tensorflow/python/ops/variable_scope.py\", line 1487, in get_variable\n",
            "    aggregation=aggregation)\n",
            "  File \"/usr/local/lib/python3.6/dist-packages/tensorflow/python/ops/variable_scope.py\", line 1237, in get_variable\n",
            "    aggregation=aggregation)\n",
            "  File \"/usr/local/lib/python3.6/dist-packages/tensorflow/python/ops/variable_scope.py\", line 540, in get_variable\n",
            "    aggregation=aggregation)\n",
            "  File \"/usr/local/lib/python3.6/dist-packages/tensorflow/python/ops/variable_scope.py\", line 492, in _true_getter\n",
            "    aggregation=aggregation)\n",
            "  File \"/usr/local/lib/python3.6/dist-packages/tensorflow/python/ops/variable_scope.py\", line 922, in _get_single_variable\n",
            "    aggregation=aggregation)\n",
            "  File \"/usr/local/lib/python3.6/dist-packages/tensorflow/python/ops/variables.py\", line 183, in __call__\n",
            "    return cls._variable_v1_call(*args, **kwargs)\n",
            "  File \"/usr/local/lib/python3.6/dist-packages/tensorflow/python/ops/variables.py\", line 146, in _variable_v1_call\n",
            "    aggregation=aggregation)\n",
            "  File \"/usr/local/lib/python3.6/dist-packages/tensorflow/python/ops/variables.py\", line 125, in <lambda>\n",
            "    previous_getter = lambda **kwargs: default_variable_creator(None, **kwargs)\n",
            "  File \"/usr/local/lib/python3.6/dist-packages/tensorflow/python/ops/variable_scope.py\", line 2444, in default_variable_creator\n",
            "    expected_shape=expected_shape, import_scope=import_scope)\n",
            "  File \"/usr/local/lib/python3.6/dist-packages/tensorflow/python/ops/variables.py\", line 187, in __call__\n",
            "    return super(VariableMetaclass, cls).__call__(*args, **kwargs)\n",
            "  File \"/usr/local/lib/python3.6/dist-packages/tensorflow/python/ops/variables.py\", line 1329, in __init__\n",
            "    constraint=constraint)\n",
            "  File \"/usr/local/lib/python3.6/dist-packages/tensorflow/python/ops/variables.py\", line 1437, in _init_from_args\n",
            "    initial_value(), name=\"initial_value\", dtype=dtype)\n",
            "  File \"/usr/local/lib/python3.6/dist-packages/tensorflow/python/ops/variable_scope.py\", line 896, in <lambda>\n",
            "    shape.as_list(), dtype=dtype, partition_info=partition_info)\n",
            "  File \"/usr/local/lib/python3.6/dist-packages/tensorflow/python/ops/init_ops.py\", line 478, in __call__\n",
            "    shape, 0.0, stddev, dtype, seed=self.seed)\n",
            "  File \"/usr/local/lib/python3.6/dist-packages/tensorflow/python/ops/random_ops.py\", line 175, in truncated_normal\n",
            "    shape_tensor, dtype, seed=seed1, seed2=seed2)\n",
            "  File \"/usr/local/lib/python3.6/dist-packages/tensorflow/python/ops/gen_random_ops.py\", line 909, in truncated_normal\n",
            "    name=name)\n",
            "  File \"/usr/local/lib/python3.6/dist-packages/tensorflow/python/framework/op_def_library.py\", line 787, in _apply_op_helper\n",
            "    op_def=op_def)\n",
            "  File \"/usr/local/lib/python3.6/dist-packages/tensorflow/python/util/deprecation.py\", line 488, in new_func\n",
            "    return func(*args, **kwargs)\n",
            "  File \"/usr/local/lib/python3.6/dist-packages/tensorflow/python/framework/ops.py\", line 3274, in create_op\n",
            "    op_def=op_def)\n",
            "  File \"/usr/local/lib/python3.6/dist-packages/tensorflow/python/framework/ops.py\", line 1770, in __init__\n",
            "    self._traceback = tf_stack.extract_stack()\n",
            "\n",
            "InvalidArgumentError (see above for traceback): Cannot assign a device for operation generator/g/h0/lin/W/Initializer/truncated_normal/TruncatedNormal: Could not satisfy explicit device specification '' because the node node generator/g/h0/lin/W/Initializer/truncated_normal/TruncatedNormal (defined at /usr/local/lib/python3.6/dist-packages/tensorlayer/layers/dense/base_dense.py:90) having device Device assignments active during op 'generator/g/h0/lin/W/Initializer/truncated_normal/TruncatedNormal' creation:\n",
            "  with tf.device(None): </usr/local/lib/python3.6/dist-packages/tensorflow/python/ops/variables.py:1435>\n",
            "  with tf.device(/gpu:0): <main.py:65>  was colocated with a group of nodes that required incompatible device '/device:GPU:0'\n",
            "Colocation Debug Info:\n",
            "Colocation group had the following types and devices: \n",
            "TruncatedNormal: CPU XLA_CPU \n",
            "Add: CPU XLA_CPU \n",
            "VariableV2: CPU \n",
            "Fill: CPU XLA_CPU \n",
            "Const: CPU XLA_CPU \n",
            "Mul: CPU XLA_CPU \n",
            "Assign: CPU \n",
            "\n",
            "Colocation members and user-requested devices:\n",
            "  generator/g/h0/lin/W/Initializer/truncated_normal/shape (Const) \n",
            "  generator/g/h0/lin/W/Initializer/truncated_normal/mean (Const) \n",
            "  generator/g/h0/lin/W/Initializer/truncated_normal/stddev (Const) \n",
            "  generator/g/h0/lin/W/Initializer/truncated_normal/TruncatedNormal (TruncatedNormal) \n",
            "  generator/g/h0/lin/W/Initializer/truncated_normal/mul (Mul) \n",
            "  generator/g/h0/lin/W/Initializer/truncated_normal (Add) \n",
            "  generator/g/h0/lin/W (VariableV2) /device:GPU:0\n",
            "  generator/g/h0/lin/W/Assign (Assign) /device:GPU:0\n",
            "  generator/g/h0/lin/W/Adam/Initializer/zeros/shape_as_tensor (Const) /device:GPU:0\n",
            "  generator/g/h0/lin/W/Adam/Initializer/zeros/Const (Const) /device:GPU:0\n",
            "  generator/g/h0/lin/W/Adam/Initializer/zeros (Fill) /device:GPU:0\n",
            "  generator/g/h0/lin/W/Adam (VariableV2) /device:GPU:0\n",
            "  generator/g/h0/lin/W/Adam/Assign (Assign) /device:GPU:0\n",
            "  generator/g/h0/lin/W/Adam_1/Initializer/zeros/shape_as_tensor (Const) /device:GPU:0\n",
            "  generator/g/h0/lin/W/Adam_1/Initializer/zeros/Const (Const) /device:GPU:0\n",
            "  generator/g/h0/lin/W/Adam_1/Initializer/zeros (Fill) /device:GPU:0\n",
            "  generator/g/h0/lin/W/Adam_1 (VariableV2) /device:GPU:0\n",
            "  generator/g/h0/lin/W/Adam_1/Assign (Assign) /device:GPU:0\n",
            "\n",
            "\t [[node generator/g/h0/lin/W/Initializer/truncated_normal/TruncatedNormal (defined at /usr/local/lib/python3.6/dist-packages/tensorlayer/layers/dense/base_dense.py:90)  = TruncatedNormal[T=DT_INT32, _class=[\"loc:@generator/g/h0/lin/W\"], dtype=DT_FLOAT, seed=0, seed2=0](generator/g/h0/lin/W/Initializer/truncated_normal/shape)]]\n",
            "\n",
            "No node-device colocations were active during op 'generator/g/h0/lin/W/Initializer/truncated_normal/TruncatedNormal' creation.\n",
            "Device assignments active during op 'generator/g/h0/lin/W/Initializer/truncated_normal/TruncatedNormal' creation:\n",
            "  with tf.device(None): </usr/local/lib/python3.6/dist-packages/tensorflow/python/ops/variables.py:1435>\n",
            "  with tf.device(/gpu:0): <main.py:65>\n",
            "\n"
          ],
          "name": "stdout"
        }
      ]
    }
  ]
}