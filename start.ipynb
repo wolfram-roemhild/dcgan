{
  "nbformat": 4,
  "nbformat_minor": 0,
  "metadata": {
    "colab": {
      "name": "start.ipynb",
      "version": "0.3.2",
      "provenance": [],
      "include_colab_link": true
    },
    "kernelspec": {
      "name": "python3",
      "display_name": "Python 3"
    }
  },
  "cells": [
    {
      "cell_type": "markdown",
      "metadata": {
        "id": "view-in-github",
        "colab_type": "text"
      },
      "source": [
        "<a href=\"https://colab.research.google.com/github/wolfram-roemhild/dcgan/blob/master/start.ipynb\" target=\"_parent\"><img src=\"https://colab.research.google.com/assets/colab-badge.svg\" alt=\"Open In Colab\"/></a>"
      ]
    },
    {
      "metadata": {
        "id": "Lhf4K8M8IWp5",
        "colab_type": "code",
        "colab": {
          "base_uri": "https://localhost:8080/",
          "height": 189
        },
        "outputId": "b799d136-55f9-433e-b76a-71964cfbc85b"
      },
      "cell_type": "code",
      "source": [
        "!git clone https://github.com/wolfram-roemhild/dcgan start\n",
        "!ls"
      ],
      "execution_count": 1,
      "outputs": [
        {
          "output_type": "stream",
          "text": [
            "Cloning into 'start'...\n",
            "remote: Enumerating objects: 9, done.\u001b[K\n",
            "remote: Counting objects: 100% (9/9), done.\u001b[K\n",
            "remote: Compressing objects: 100% (9/9), done.\u001b[K\n",
            "remote: Total 242 (delta 3), reused 0 (delta 0), pack-reused 233\u001b[K\n",
            "Receiving objects: 100% (242/242), 1.85 MiB | 18.92 MiB/s, done.\n",
            "Resolving deltas: 100% (77/77), done.\n",
            "sample_data  start\n"
          ],
          "name": "stdout"
        }
      ]
    },
    {
      "metadata": {
        "id": "9Z7SfMHxJQmJ",
        "colab_type": "code",
        "colab": {
          "base_uri": "https://localhost:8080/",
          "height": 81
        },
        "outputId": "7bc941ec-5cc6-4823-a58a-0c755ffe378e"
      },
      "cell_type": "code",
      "source": [
        "!cp -r start/* .\n",
        "!ls"
      ],
      "execution_count": 4,
      "outputs": [
        {
          "output_type": "stream",
          "text": [
            "download.py  main.py   README.md    start\t utils.py\n",
            "img\t     model.py  sample_data  start.ipynb\n"
          ],
          "name": "stdout"
        }
      ]
    }
  ]
}