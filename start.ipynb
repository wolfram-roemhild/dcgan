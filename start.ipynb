{
  "nbformat": 4,
  "nbformat_minor": 0,
  "metadata": {
    "colab": {
      "name": "start.ipynb",
      "version": "0.3.2",
      "provenance": [],
      "include_colab_link": true
    },
    "kernelspec": {
      "name": "python3",
      "display_name": "Python 3"
    },
    "accelerator": "GPU"
  },
  "cells": [
    {
      "cell_type": "markdown",
      "metadata": {
        "id": "view-in-github",
        "colab_type": "text"
      },
      "source": [
        "<a href=\"https://colab.research.google.com/github/wolfram-roemhild/dcgan/blob/master/start.ipynb\" target=\"_parent\"><img src=\"https://colab.research.google.com/assets/colab-badge.svg\" alt=\"Open In Colab\"/></a>"
      ]
    },
    {
      "metadata": {
        "id": "Lhf4K8M8IWp5",
        "colab_type": "code",
        "outputId": "d06a9255-e8a7-4533-d795-44977031b8cc",
        "colab": {
          "base_uri": "https://localhost:8080/",
          "height": 156
        }
      },
      "cell_type": "code",
      "source": [
        "!git clone https://github.com/wolfram-roemhild/dcgan start\n",
        "!ls"
      ],
      "execution_count": 1,
      "outputs": [
        {
          "output_type": "stream",
          "text": [
            "Cloning into 'start'...\n",
            "remote: Enumerating objects: 42, done.\u001b[K\n",
            "remote: Counting objects: 100% (42/42), done.\u001b[K\n",
            "remote: Compressing objects: 100% (42/42), done.\u001b[K\n",
            "remote: Total 275 (delta 23), reused 0 (delta 0), pack-reused 233\u001b[K\n",
            "Receiving objects: 100% (275/275), 1.86 MiB | 12.72 MiB/s, done.\n",
            "Resolving deltas: 100% (97/97), done.\n",
            "sample_data  start\n"
          ],
          "name": "stdout"
        }
      ]
    },
    {
      "metadata": {
        "id": "9Z7SfMHxJQmJ",
        "colab_type": "code",
        "outputId": "3c773bf2-8cd7-4487-94df-1eb0652c33eb",
        "colab": {
          "base_uri": "https://localhost:8080/",
          "height": 52
        }
      },
      "cell_type": "code",
      "source": [
        "!cp -r start/* .\n",
        "!ls"
      ],
      "execution_count": 2,
      "outputs": [
        {
          "output_type": "stream",
          "text": [
            "download.py  main.py   README.md    start\t utils.py\n",
            "img\t     model.py  sample_data  start.ipynb\n"
          ],
          "name": "stdout"
        }
      ]
    },
    {
      "metadata": {
        "id": "cFY0WBTyDtTj",
        "colab_type": "code",
        "outputId": "df11bf88-c9fd-46c9-d9d5-55921099140d",
        "colab": {
          "base_uri": "https://localhost:8080/",
          "height": 1077
        }
      },
      "cell_type": "code",
      "source": [
        "!pip3 install cufflinks"
      ],
      "execution_count": 4,
      "outputs": [
        {
          "output_type": "stream",
          "text": [
            "Requirement already satisfied: cufflinks in /usr/local/lib/python3.6/dist-packages (0.14.6)\n",
            "Requirement already satisfied: numpy>=1.9.2 in /usr/local/lib/python3.6/dist-packages (from cufflinks) (1.14.6)\n",
            "Requirement already satisfied: pandas>=0.19.2 in /usr/local/lib/python3.6/dist-packages (from cufflinks) (0.22.0)\n",
            "Collecting plotly>=3.0.0 (from cufflinks)\n",
            "\u001b[?25l  Downloading https://files.pythonhosted.org/packages/3e/77/905effe9361395d3e094ffd2b54b4085d339a7b7de9c2c91fa55ec257422/plotly-3.5.0-py2.py3-none-any.whl (38.3MB)\n",
            "\u001b[K    100% |████████████████████████████████| 38.4MB 1.0MB/s \n",
            "\u001b[?25hRequirement already satisfied: six>=1.9.0 in /usr/local/lib/python3.6/dist-packages (from cufflinks) (1.11.0)\n",
            "Requirement already satisfied: colorlover>=0.2.1 in /usr/local/lib/python3.6/dist-packages (from cufflinks) (0.2.1)\n",
            "Requirement already satisfied: setuptools>=34.4.1 in /usr/local/lib/python3.6/dist-packages (from cufflinks) (40.6.3)\n",
            "Requirement already satisfied: ipython>=5.3.0 in /usr/local/lib/python3.6/dist-packages (from cufflinks) (5.5.0)\n",
            "Requirement already satisfied: nose==1.3.7 in /usr/local/lib/python3.6/dist-packages (from cufflinks) (1.3.7)\n",
            "Requirement already satisfied: ipywidgets>=7.0.0 in /usr/local/lib/python3.6/dist-packages (from cufflinks) (7.4.2)\n",
            "Requirement already satisfied: python-dateutil>=2 in /usr/local/lib/python3.6/dist-packages (from pandas>=0.19.2->cufflinks) (2.5.3)\n",
            "Requirement already satisfied: pytz>=2011k in /usr/local/lib/python3.6/dist-packages (from pandas>=0.19.2->cufflinks) (2018.7)\n",
            "Requirement already satisfied: decorator>=4.0.6 in /usr/local/lib/python3.6/dist-packages (from plotly>=3.0.0->cufflinks) (4.3.0)\n",
            "Requirement already satisfied: nbformat>=4.2 in /usr/local/lib/python3.6/dist-packages (from plotly>=3.0.0->cufflinks) (4.4.0)\n",
            "Requirement already satisfied: requests in /usr/local/lib/python3.6/dist-packages (from plotly>=3.0.0->cufflinks) (2.18.4)\n",
            "Collecting retrying>=1.3.3 (from plotly>=3.0.0->cufflinks)\n",
            "  Downloading https://files.pythonhosted.org/packages/44/ef/beae4b4ef80902f22e3af073397f079c96969c69b2c7d52a57ea9ae61c9d/retrying-1.3.3.tar.gz\n",
            "Requirement already satisfied: simplegeneric>0.8 in /usr/local/lib/python3.6/dist-packages (from ipython>=5.3.0->cufflinks) (0.8.1)\n",
            "Requirement already satisfied: pygments in /usr/local/lib/python3.6/dist-packages (from ipython>=5.3.0->cufflinks) (2.1.3)\n",
            "Requirement already satisfied: pickleshare in /usr/local/lib/python3.6/dist-packages (from ipython>=5.3.0->cufflinks) (0.7.5)\n",
            "Requirement already satisfied: traitlets>=4.2 in /usr/local/lib/python3.6/dist-packages (from ipython>=5.3.0->cufflinks) (4.3.2)\n",
            "Requirement already satisfied: pexpect; sys_platform != \"win32\" in /usr/local/lib/python3.6/dist-packages (from ipython>=5.3.0->cufflinks) (4.6.0)\n",
            "Requirement already satisfied: prompt-toolkit<2.0.0,>=1.0.4 in /usr/local/lib/python3.6/dist-packages (from ipython>=5.3.0->cufflinks) (1.0.15)\n",
            "Requirement already satisfied: ipykernel>=4.5.1 in /usr/local/lib/python3.6/dist-packages (from ipywidgets>=7.0.0->cufflinks) (4.6.1)\n",
            "Requirement already satisfied: widgetsnbextension~=3.4.0 in /usr/local/lib/python3.6/dist-packages (from ipywidgets>=7.0.0->cufflinks) (3.4.2)\n",
            "Requirement already satisfied: ipython-genutils in /usr/local/lib/python3.6/dist-packages (from nbformat>=4.2->plotly>=3.0.0->cufflinks) (0.2.0)\n",
            "Requirement already satisfied: jupyter-core in /usr/local/lib/python3.6/dist-packages (from nbformat>=4.2->plotly>=3.0.0->cufflinks) (4.4.0)\n",
            "Requirement already satisfied: jsonschema!=2.5.0,>=2.4 in /usr/local/lib/python3.6/dist-packages (from nbformat>=4.2->plotly>=3.0.0->cufflinks) (2.6.0)\n",
            "Requirement already satisfied: urllib3<1.23,>=1.21.1 in /usr/local/lib/python3.6/dist-packages (from requests->plotly>=3.0.0->cufflinks) (1.22)\n",
            "Requirement already satisfied: idna<2.7,>=2.5 in /usr/local/lib/python3.6/dist-packages (from requests->plotly>=3.0.0->cufflinks) (2.6)\n",
            "Requirement already satisfied: chardet<3.1.0,>=3.0.2 in /usr/local/lib/python3.6/dist-packages (from requests->plotly>=3.0.0->cufflinks) (3.0.4)\n",
            "Requirement already satisfied: certifi>=2017.4.17 in /usr/local/lib/python3.6/dist-packages (from requests->plotly>=3.0.0->cufflinks) (2018.11.29)\n",
            "Requirement already satisfied: ptyprocess>=0.5 in /usr/local/lib/python3.6/dist-packages (from pexpect; sys_platform != \"win32\"->ipython>=5.3.0->cufflinks) (0.6.0)\n",
            "Requirement already satisfied: wcwidth in /usr/local/lib/python3.6/dist-packages (from prompt-toolkit<2.0.0,>=1.0.4->ipython>=5.3.0->cufflinks) (0.1.7)\n",
            "Requirement already satisfied: jupyter-client in /usr/local/lib/python3.6/dist-packages (from ipykernel>=4.5.1->ipywidgets>=7.0.0->cufflinks) (5.2.4)\n",
            "Requirement already satisfied: tornado>=4.0 in /usr/local/lib/python3.6/dist-packages (from ipykernel>=4.5.1->ipywidgets>=7.0.0->cufflinks) (4.5.3)\n",
            "Requirement already satisfied: notebook>=4.4.1 in /usr/local/lib/python3.6/dist-packages (from widgetsnbextension~=3.4.0->ipywidgets>=7.0.0->cufflinks) (5.2.2)\n",
            "Requirement already satisfied: pyzmq>=13 in /usr/local/lib/python3.6/dist-packages (from jupyter-client->ipykernel>=4.5.1->ipywidgets>=7.0.0->cufflinks) (17.0.0)\n",
            "Requirement already satisfied: terminado>=0.3.3; sys_platform != \"win32\" in /usr/local/lib/python3.6/dist-packages (from notebook>=4.4.1->widgetsnbextension~=3.4.0->ipywidgets>=7.0.0->cufflinks) (0.8.1)\n",
            "Requirement already satisfied: nbconvert in /usr/local/lib/python3.6/dist-packages (from notebook>=4.4.1->widgetsnbextension~=3.4.0->ipywidgets>=7.0.0->cufflinks) (5.4.0)\n",
            "Requirement already satisfied: jinja2 in /usr/local/lib/python3.6/dist-packages (from notebook>=4.4.1->widgetsnbextension~=3.4.0->ipywidgets>=7.0.0->cufflinks) (2.10)\n",
            "Requirement already satisfied: entrypoints>=0.2.2 in /usr/local/lib/python3.6/dist-packages (from nbconvert->notebook>=4.4.1->widgetsnbextension~=3.4.0->ipywidgets>=7.0.0->cufflinks) (0.2.3)\n",
            "Requirement already satisfied: pandocfilters>=1.4.1 in /usr/local/lib/python3.6/dist-packages (from nbconvert->notebook>=4.4.1->widgetsnbextension~=3.4.0->ipywidgets>=7.0.0->cufflinks) (1.4.2)\n",
            "Requirement already satisfied: mistune>=0.8.1 in /usr/local/lib/python3.6/dist-packages (from nbconvert->notebook>=4.4.1->widgetsnbextension~=3.4.0->ipywidgets>=7.0.0->cufflinks) (0.8.4)\n",
            "Requirement already satisfied: testpath in /usr/local/lib/python3.6/dist-packages (from nbconvert->notebook>=4.4.1->widgetsnbextension~=3.4.0->ipywidgets>=7.0.0->cufflinks) (0.4.2)\n",
            "Requirement already satisfied: defusedxml in /usr/local/lib/python3.6/dist-packages (from nbconvert->notebook>=4.4.1->widgetsnbextension~=3.4.0->ipywidgets>=7.0.0->cufflinks) (0.5.0)\n",
            "Requirement already satisfied: bleach in /usr/local/lib/python3.6/dist-packages (from nbconvert->notebook>=4.4.1->widgetsnbextension~=3.4.0->ipywidgets>=7.0.0->cufflinks) (3.0.2)\n",
            "Requirement already satisfied: MarkupSafe>=0.23 in /usr/local/lib/python3.6/dist-packages (from jinja2->notebook>=4.4.1->widgetsnbextension~=3.4.0->ipywidgets>=7.0.0->cufflinks) (1.1.0)\n",
            "Requirement already satisfied: webencodings in /usr/local/lib/python3.6/dist-packages (from bleach->nbconvert->notebook>=4.4.1->widgetsnbextension~=3.4.0->ipywidgets>=7.0.0->cufflinks) (0.5.1)\n",
            "Building wheels for collected packages: retrying\n",
            "  Running setup.py bdist_wheel for retrying ... \u001b[?25l-\b \bdone\n",
            "\u001b[?25h  Stored in directory: /root/.cache/pip/wheels/d7/a9/33/acc7b709e2a35caa7d4cae442f6fe6fbf2c43f80823d46460c\n",
            "Successfully built retrying\n",
            "Installing collected packages: retrying, plotly\n",
            "  Found existing installation: plotly 1.12.12\n",
            "    Uninstalling plotly-1.12.12:\n",
            "      Successfully uninstalled plotly-1.12.12\n",
            "Successfully installed plotly-3.5.0 retrying-1.3.3\n"
          ],
          "name": "stdout"
        }
      ]
    },
    {
      "metadata": {
        "id": "qNPQNDhcDNvH",
        "colab_type": "code",
        "outputId": "6825c86b-6a7c-480b-f432-1d36456146ec",
        "colab": {
          "base_uri": "https://localhost:8080/",
          "height": 347
        }
      },
      "cell_type": "code",
      "source": [
        "!pip3 install pymc3"
      ],
      "execution_count": 5,
      "outputs": [
        {
          "output_type": "stream",
          "text": [
            "Requirement already satisfied: pymc3 in /usr/local/lib/python3.6/dist-packages (3.6)\n",
            "Requirement already satisfied: theano>=1.0.0 in /usr/local/lib/python3.6/dist-packages (from pymc3) (1.0.3)\n",
            "Requirement already satisfied: numpy>=1.13.0 in /usr/local/lib/python3.6/dist-packages (from pymc3) (1.14.6)\n",
            "Requirement already satisfied: scipy>=0.18.1 in /usr/local/lib/python3.6/dist-packages (from pymc3) (1.1.0)\n",
            "Requirement already satisfied: pandas>=0.18.0 in /usr/local/lib/python3.6/dist-packages (from pymc3) (0.22.0)\n",
            "Requirement already satisfied: patsy>=0.4.0 in /usr/local/lib/python3.6/dist-packages (from pymc3) (0.5.1)\n",
            "Collecting joblib<0.13.0 (from pymc3)\n",
            "\u001b[?25l  Downloading https://files.pythonhosted.org/packages/69/91/d217cec1fe6eac525ca964cd67e4f79b1d4ce68b64cb82d0b9ae1af2311e/joblib-0.12.5-py2.py3-none-any.whl (275kB)\n",
            "\u001b[K    100% |████████████████████████████████| 276kB 9.2MB/s \n",
            "\u001b[?25hRequirement already satisfied: tqdm>=4.8.4 in /usr/local/lib/python3.6/dist-packages (from pymc3) (4.28.1)\n",
            "Requirement already satisfied: six>=1.10.0 in /usr/local/lib/python3.6/dist-packages (from pymc3) (1.11.0)\n",
            "Requirement already satisfied: h5py>=2.7.0 in /usr/local/lib/python3.6/dist-packages (from pymc3) (2.8.0)\n",
            "Requirement already satisfied: python-dateutil>=2 in /usr/local/lib/python3.6/dist-packages (from pandas>=0.18.0->pymc3) (2.5.3)\n",
            "Requirement already satisfied: pytz>=2011k in /usr/local/lib/python3.6/dist-packages (from pandas>=0.18.0->pymc3) (2018.7)\n",
            "Installing collected packages: joblib\n",
            "  Found existing installation: joblib 0.13.0\n",
            "    Uninstalling joblib-0.13.0:\n",
            "      Successfully uninstalled joblib-0.13.0\n",
            "Successfully installed joblib-0.12.5\n"
          ],
          "name": "stdout"
        }
      ]
    },
    {
      "metadata": {
        "id": "QHuMAwBqD0L8",
        "colab_type": "code",
        "outputId": "7f089363-82c5-4c78-f3a0-70c54048c38f",
        "colab": {
          "base_uri": "https://localhost:8080/",
          "height": 624
        }
      },
      "cell_type": "code",
      "source": [
        "!pip3 install featuretools"
      ],
      "execution_count": 6,
      "outputs": [
        {
          "output_type": "stream",
          "text": [
            "Requirement already satisfied: featuretools in /usr/local/lib/python3.6/dist-packages (0.4.1)\n",
            "Requirement already satisfied: numpy>=1.13.3 in /usr/local/lib/python3.6/dist-packages (from featuretools) (1.14.6)\n",
            "Collecting pandas>=0.23.0 (from featuretools)\n",
            "\u001b[?25l  Downloading https://files.pythonhosted.org/packages/e1/d8/feeb346d41f181e83fba45224ab14a8d8af019b48af742e047f3845d8cff/pandas-0.23.4-cp36-cp36m-manylinux1_x86_64.whl (8.9MB)\n",
            "\u001b[K    100% |████████████████████████████████| 8.9MB 3.9MB/s \n",
            "\u001b[?25hRequirement already satisfied: s3fs>=0.1.2 in /usr/local/lib/python3.6/dist-packages (from featuretools) (0.2.0)\n",
            "Requirement already satisfied: tqdm>=4.19.2 in /usr/local/lib/python3.6/dist-packages (from featuretools) (4.28.1)\n",
            "Requirement already satisfied: toolz>=0.8.2 in /usr/local/lib/python3.6/dist-packages (from featuretools) (0.9.0)\n",
            "Requirement already satisfied: pyyaml>=3.12 in /usr/local/lib/python3.6/dist-packages (from featuretools) (3.13)\n",
            "Requirement already satisfied: cloudpickle>=0.4.0 in /usr/local/lib/python3.6/dist-packages (from featuretools) (0.6.1)\n",
            "Requirement already satisfied: future>=0.16.0 in /usr/local/lib/python3.6/dist-packages (from featuretools) (0.16.0)\n",
            "Requirement already satisfied: dask>=0.19.4 in /usr/local/lib/python3.6/dist-packages (from featuretools) (0.20.2)\n",
            "Requirement already satisfied: distributed>=1.24.2 in /usr/local/lib/python3.6/dist-packages (from featuretools) (1.25.1)\n",
            "Requirement already satisfied: psutil>=5.4.8 in /usr/local/lib/python3.6/dist-packages (from featuretools) (5.4.8)\n",
            "Requirement already satisfied: python-dateutil>=2.5.0 in /usr/local/lib/python3.6/dist-packages (from pandas>=0.23.0->featuretools) (2.5.3)\n",
            "Requirement already satisfied: pytz>=2011k in /usr/local/lib/python3.6/dist-packages (from pandas>=0.23.0->featuretools) (2018.7)\n",
            "Requirement already satisfied: botocore in /usr/local/lib/python3.6/dist-packages (from s3fs>=0.1.2->featuretools) (1.12.72)\n",
            "Requirement already satisfied: boto3 in /usr/local/lib/python3.6/dist-packages (from s3fs>=0.1.2->featuretools) (1.9.72)\n",
            "Requirement already satisfied: six in /usr/local/lib/python3.6/dist-packages (from s3fs>=0.1.2->featuretools) (1.11.0)\n",
            "Requirement already satisfied: sortedcontainers!=2.0.0,!=2.0.1 in /usr/local/lib/python3.6/dist-packages (from distributed>=1.24.2->featuretools) (2.1.0)\n",
            "Requirement already satisfied: msgpack in /usr/local/lib/python3.6/dist-packages (from distributed>=1.24.2->featuretools) (0.5.6)\n",
            "Requirement already satisfied: zict>=0.1.3 in /usr/local/lib/python3.6/dist-packages (from distributed>=1.24.2->featuretools) (0.1.3)\n",
            "Requirement already satisfied: click>=6.6 in /usr/local/lib/python3.6/dist-packages (from distributed>=1.24.2->featuretools) (7.0)\n",
            "Requirement already satisfied: tornado>=4.5.1 in /usr/local/lib/python3.6/dist-packages (from distributed>=1.24.2->featuretools) (4.5.3)\n",
            "Requirement already satisfied: tblib in /usr/local/lib/python3.6/dist-packages (from distributed>=1.24.2->featuretools) (1.3.2)\n",
            "Requirement already satisfied: urllib3<1.25,>=1.20; python_version >= \"3.4\" in /usr/local/lib/python3.6/dist-packages (from botocore->s3fs>=0.1.2->featuretools) (1.22)\n",
            "Requirement already satisfied: jmespath<1.0.0,>=0.7.1 in /usr/local/lib/python3.6/dist-packages (from botocore->s3fs>=0.1.2->featuretools) (0.9.3)\n",
            "Requirement already satisfied: docutils>=0.10 in /usr/local/lib/python3.6/dist-packages (from botocore->s3fs>=0.1.2->featuretools) (0.14)\n",
            "Requirement already satisfied: s3transfer<0.2.0,>=0.1.10 in /usr/local/lib/python3.6/dist-packages (from boto3->s3fs>=0.1.2->featuretools) (0.1.13)\n",
            "Requirement already satisfied: heapdict in /usr/local/lib/python3.6/dist-packages (from zict>=0.1.3->distributed>=1.24.2->featuretools) (1.0.0)\n",
            "Installing collected packages: pandas\n",
            "  Found existing installation: pandas 0.22.0\n",
            "    Uninstalling pandas-0.22.0:\n",
            "      Successfully uninstalled pandas-0.22.0\n",
            "Successfully installed pandas-0.23.4\n"
          ],
          "name": "stdout"
        }
      ]
    },
    {
      "metadata": {
        "id": "ODKwu6_NCl9Y",
        "colab_type": "code",
        "outputId": "5ef6b288-61d4-4755-833a-b79bc99461f5",
        "colab": {
          "base_uri": "https://localhost:8080/",
          "height": 520
        }
      },
      "cell_type": "code",
      "source": [
        "!pip3 install spacy"
      ],
      "execution_count": 7,
      "outputs": [
        {
          "output_type": "stream",
          "text": [
            "Requirement already satisfied: spacy in /usr/local/lib/python3.6/dist-packages (2.0.18)\n",
            "Requirement already satisfied: requests<3.0.0,>=2.13.0 in /usr/local/lib/python3.6/dist-packages (from spacy) (2.18.4)\n",
            "Requirement already satisfied: cymem<2.1.0,>=2.0.2 in /usr/local/lib/python3.6/dist-packages (from spacy) (2.0.2)\n",
            "Requirement already satisfied: ujson>=1.35 in /usr/local/lib/python3.6/dist-packages (from spacy) (1.35)\n",
            "Requirement already satisfied: thinc<6.13.0,>=6.12.1 in /usr/local/lib/python3.6/dist-packages (from spacy) (6.12.1)\n",
            "Requirement already satisfied: dill<0.3,>=0.2 in /usr/local/lib/python3.6/dist-packages (from spacy) (0.2.8.2)\n",
            "Collecting numpy>=1.15.0 (from spacy)\n",
            "\u001b[?25l  Downloading https://files.pythonhosted.org/packages/ff/7f/9d804d2348471c67a7d8b5f84f9bc59fd1cefa148986f2b74552f8573555/numpy-1.15.4-cp36-cp36m-manylinux1_x86_64.whl (13.9MB)\n",
            "\u001b[K    100% |████████████████████████████████| 13.9MB 2.9MB/s \n",
            "\u001b[?25hRequirement already satisfied: murmurhash<1.1.0,>=0.28.0 in /usr/local/lib/python3.6/dist-packages (from spacy) (1.0.1)\n",
            "Requirement already satisfied: regex==2018.01.10 in /usr/local/lib/python3.6/dist-packages (from spacy) (2018.1.10)\n",
            "Requirement already satisfied: preshed<2.1.0,>=2.0.1 in /usr/local/lib/python3.6/dist-packages (from spacy) (2.0.1)\n",
            "Requirement already satisfied: plac<1.0.0,>=0.9.6 in /usr/local/lib/python3.6/dist-packages (from spacy) (0.9.6)\n",
            "Requirement already satisfied: chardet<3.1.0,>=3.0.2 in /usr/local/lib/python3.6/dist-packages (from requests<3.0.0,>=2.13.0->spacy) (3.0.4)\n",
            "Requirement already satisfied: urllib3<1.23,>=1.21.1 in /usr/local/lib/python3.6/dist-packages (from requests<3.0.0,>=2.13.0->spacy) (1.22)\n",
            "Requirement already satisfied: idna<2.7,>=2.5 in /usr/local/lib/python3.6/dist-packages (from requests<3.0.0,>=2.13.0->spacy) (2.6)\n",
            "Requirement already satisfied: certifi>=2017.4.17 in /usr/local/lib/python3.6/dist-packages (from requests<3.0.0,>=2.13.0->spacy) (2018.11.29)\n",
            "Requirement already satisfied: cytoolz<0.10,>=0.9.0 in /usr/local/lib/python3.6/dist-packages (from thinc<6.13.0,>=6.12.1->spacy) (0.9.0.1)\n",
            "Requirement already satisfied: wrapt<1.11.0,>=1.10.0 in /usr/local/lib/python3.6/dist-packages (from thinc<6.13.0,>=6.12.1->spacy) (1.10.11)\n",
            "Requirement already satisfied: six<2.0.0,>=1.10.0 in /usr/local/lib/python3.6/dist-packages (from thinc<6.13.0,>=6.12.1->spacy) (1.11.0)\n",
            "Requirement already satisfied: msgpack<0.6.0,>=0.5.6 in /usr/local/lib/python3.6/dist-packages (from thinc<6.13.0,>=6.12.1->spacy) (0.5.6)\n",
            "Requirement already satisfied: tqdm<5.0.0,>=4.10.0 in /usr/local/lib/python3.6/dist-packages (from thinc<6.13.0,>=6.12.1->spacy) (4.28.1)\n",
            "Requirement already satisfied: msgpack-numpy<0.4.4 in /usr/local/lib/python3.6/dist-packages (from thinc<6.13.0,>=6.12.1->spacy) (0.4.3.2)\n",
            "Requirement already satisfied: toolz>=0.8.0 in /usr/local/lib/python3.6/dist-packages (from cytoolz<0.10,>=0.9.0->thinc<6.13.0,>=6.12.1->spacy) (0.9.0)\n",
            "Installing collected packages: numpy\n",
            "  Found existing installation: numpy 1.14.6\n",
            "    Uninstalling numpy-1.14.6:\n",
            "      Successfully uninstalled numpy-1.14.6\n",
            "Successfully installed numpy-1.15.4\n"
          ],
          "name": "stdout"
        }
      ]
    },
    {
      "metadata": {
        "id": "AoZ3M6oHCPQ0",
        "colab_type": "code",
        "outputId": "70255a43-5a12-43c4-d805-6654c01fec39",
        "colab": {
          "base_uri": "https://localhost:8080/",
          "height": 191
        }
      },
      "cell_type": "code",
      "source": [
        "!pip3 install yellowbrick"
      ],
      "execution_count": 8,
      "outputs": [
        {
          "output_type": "stream",
          "text": [
            "Requirement already satisfied: yellowbrick in /usr/local/lib/python3.6/dist-packages (0.9)\n",
            "Requirement already satisfied: numpy>=1.13.0 in /usr/local/lib/python3.6/dist-packages (from yellowbrick) (1.15.4)\n",
            "Requirement already satisfied: cycler>=0.10.0 in /usr/local/lib/python3.6/dist-packages (from yellowbrick) (0.10.0)\n",
            "Requirement already satisfied: scipy>=1.0.0 in /usr/local/lib/python3.6/dist-packages (from yellowbrick) (1.1.0)\n",
            "Requirement already satisfied: scikit-learn>=0.20 in /usr/local/lib/python3.6/dist-packages (from yellowbrick) (0.20.2)\n",
            "Requirement already satisfied: matplotlib<3.0,>=1.5.1 in /usr/local/lib/python3.6/dist-packages (from yellowbrick) (2.1.2)\n",
            "Requirement already satisfied: six in /usr/local/lib/python3.6/dist-packages (from cycler>=0.10.0->yellowbrick) (1.11.0)\n",
            "Requirement already satisfied: pyparsing!=2.0.4,!=2.1.2,!=2.1.6,>=2.0.1 in /usr/local/lib/python3.6/dist-packages (from matplotlib<3.0,>=1.5.1->yellowbrick) (2.3.0)\n",
            "Requirement already satisfied: pytz in /usr/local/lib/python3.6/dist-packages (from matplotlib<3.0,>=1.5.1->yellowbrick) (2018.7)\n",
            "Requirement already satisfied: python-dateutil>=2.1 in /usr/local/lib/python3.6/dist-packages (from matplotlib<3.0,>=1.5.1->yellowbrick) (2.5.3)\n"
          ],
          "name": "stdout"
        }
      ]
    },
    {
      "metadata": {
        "id": "9O_QW52uCcl3",
        "colab_type": "code",
        "outputId": "3f8b3041-8d0d-47ac-fdd5-e9b1fc70c838",
        "colab": {
          "base_uri": "https://localhost:8080/",
          "height": 260
        }
      },
      "cell_type": "code",
      "source": [
        "!pip3 install scikit-image"
      ],
      "execution_count": 9,
      "outputs": [
        {
          "output_type": "stream",
          "text": [
            "Requirement already satisfied: scikit-image in /usr/local/lib/python3.6/dist-packages (0.13.1)\n",
            "Requirement already satisfied: matplotlib>=1.3.1 in /usr/local/lib/python3.6/dist-packages (from scikit-image) (2.1.2)\n",
            "Requirement already satisfied: PyWavelets>=0.4.0 in /usr/local/lib/python3.6/dist-packages (from scikit-image) (1.0.1)\n",
            "Requirement already satisfied: networkx>=1.8 in /usr/local/lib/python3.6/dist-packages (from scikit-image) (2.2)\n",
            "Requirement already satisfied: pillow>=2.1.0 in /usr/local/lib/python3.6/dist-packages (from scikit-image) (4.0.0)\n",
            "Requirement already satisfied: scipy>=0.17.0 in /usr/local/lib/python3.6/dist-packages (from scikit-image) (1.1.0)\n",
            "Requirement already satisfied: six>=1.7.3 in /usr/local/lib/python3.6/dist-packages (from scikit-image) (1.11.0)\n",
            "Requirement already satisfied: numpy>=1.7.1 in /usr/local/lib/python3.6/dist-packages (from matplotlib>=1.3.1->scikit-image) (1.15.4)\n",
            "Requirement already satisfied: cycler>=0.10 in /usr/local/lib/python3.6/dist-packages (from matplotlib>=1.3.1->scikit-image) (0.10.0)\n",
            "Requirement already satisfied: pyparsing!=2.0.4,!=2.1.2,!=2.1.6,>=2.0.1 in /usr/local/lib/python3.6/dist-packages (from matplotlib>=1.3.1->scikit-image) (2.3.0)\n",
            "Requirement already satisfied: pytz in /usr/local/lib/python3.6/dist-packages (from matplotlib>=1.3.1->scikit-image) (2018.7)\n",
            "Requirement already satisfied: python-dateutil>=2.1 in /usr/local/lib/python3.6/dist-packages (from matplotlib>=1.3.1->scikit-image) (2.5.3)\n",
            "Requirement already satisfied: decorator>=4.3.0 in /usr/local/lib/python3.6/dist-packages (from networkx>=1.8->scikit-image) (4.3.0)\n",
            "Requirement already satisfied: olefile in /usr/local/lib/python3.6/dist-packages (from pillow>=2.1.0->scikit-image) (0.46)\n"
          ],
          "name": "stdout"
        }
      ]
    },
    {
      "metadata": {
        "id": "W9_jdDDFLBNk",
        "colab_type": "code",
        "outputId": "95f1f099-d52f-4dcc-c414-305d78bc97ca",
        "colab": {
          "base_uri": "https://localhost:8080/",
          "height": 971
        }
      },
      "cell_type": "code",
      "source": [
        "!pip3 install tensorlayer"
      ],
      "execution_count": 10,
      "outputs": [
        {
          "output_type": "stream",
          "text": [
            "Collecting tensorlayer\n",
            "\u001b[?25l  Downloading https://files.pythonhosted.org/packages/cf/55/2dc51f4a8e772240e63c442de06762ddefd0631399f446b6895be5e2590d/tensorlayer-1.11.1-py2.py3-none-any.whl (316kB)\n",
            "\u001b[K    100% |████████████████████████████████| 317kB 18.8MB/s \n",
            "\u001b[?25hRequirement already satisfied: lxml<4.3,>=4.2 in /usr/local/lib/python3.6/dist-packages (from tensorlayer) (4.2.6)\n",
            "Requirement already satisfied: numpy<1.16,>=1.14 in /usr/local/lib/python3.6/dist-packages (from tensorlayer) (1.15.4)\n",
            "Collecting matplotlib<3.1,>=2.2 (from tensorlayer)\n",
            "\u001b[?25l  Downloading https://files.pythonhosted.org/packages/71/07/16d781df15be30df4acfd536c479268f1208b2dfbc91e9ca5d92c9caf673/matplotlib-3.0.2-cp36-cp36m-manylinux1_x86_64.whl (12.9MB)\n",
            "\u001b[K    100% |████████████████████████████████| 12.9MB 2.2MB/s \n",
            "\u001b[?25hRequirement already satisfied: imageio<2.5,>=2.3 in /usr/local/lib/python3.6/dist-packages (from tensorlayer) (2.4.1)\n",
            "Requirement already satisfied: scipy<1.2,>=1.1 in /usr/local/lib/python3.6/dist-packages (from tensorlayer) (1.1.0)\n",
            "Collecting scikit-image<0.15,>=0.14 (from tensorlayer)\n",
            "\u001b[?25l  Downloading https://files.pythonhosted.org/packages/9c/90/553120309c53bdfca25c9c50769ae40a538a90c24db8c082468aec898d00/scikit_image-0.14.1-cp36-cp36m-manylinux1_x86_64.whl (25.3MB)\n",
            "\u001b[K    100% |████████████████████████████████| 25.3MB 1.7MB/s \n",
            "\u001b[?25hCollecting requests<2.21,>=2.19 (from tensorlayer)\n",
            "\u001b[?25l  Downloading https://files.pythonhosted.org/packages/ff/17/5cbb026005115301a8fb2f9b0e3e8d32313142fe8b617070e7baad20554f/requests-2.20.1-py2.py3-none-any.whl (57kB)\n",
            "\u001b[K    100% |████████████████████████████████| 61kB 22.5MB/s \n",
            "\u001b[?25hRequirement already satisfied: tqdm<4.29,>=4.23 in /usr/local/lib/python3.6/dist-packages (from tensorlayer) (4.28.1)\n",
            "Requirement already satisfied: scikit-learn<0.21,>=0.19 in /usr/local/lib/python3.6/dist-packages (from tensorlayer) (0.20.2)\n",
            "Requirement already satisfied: wrapt<1.11,>=1.10 in /usr/local/lib/python3.6/dist-packages (from tensorlayer) (1.10.11)\n",
            "Requirement already satisfied: progressbar2<3.39,>=3.38 in /usr/local/lib/python3.6/dist-packages (from tensorlayer) (3.38.0)\n",
            "Requirement already satisfied: pyparsing!=2.0.4,!=2.1.2,!=2.1.6,>=2.0.1 in /usr/local/lib/python3.6/dist-packages (from matplotlib<3.1,>=2.2->tensorlayer) (2.3.0)\n",
            "Requirement already satisfied: cycler>=0.10 in /usr/local/lib/python3.6/dist-packages (from matplotlib<3.1,>=2.2->tensorlayer) (0.10.0)\n",
            "Requirement already satisfied: python-dateutil>=2.1 in /usr/local/lib/python3.6/dist-packages (from matplotlib<3.1,>=2.2->tensorlayer) (2.5.3)\n",
            "Collecting kiwisolver>=1.0.1 (from matplotlib<3.1,>=2.2->tensorlayer)\n",
            "\u001b[?25l  Downloading https://files.pythonhosted.org/packages/69/a7/88719d132b18300b4369fbffa741841cfd36d1e637e1990f27929945b538/kiwisolver-1.0.1-cp36-cp36m-manylinux1_x86_64.whl (949kB)\n",
            "\u001b[K    100% |████████████████████████████████| 952kB 19.7MB/s \n",
            "\u001b[?25hRequirement already satisfied: pillow in /usr/local/lib/python3.6/dist-packages (from imageio<2.5,>=2.3->tensorlayer) (4.0.0)\n",
            "Requirement already satisfied: dask[array]>=0.9.0 in /usr/local/lib/python3.6/dist-packages (from scikit-image<0.15,>=0.14->tensorlayer) (0.20.2)\n",
            "Requirement already satisfied: PyWavelets>=0.4.0 in /usr/local/lib/python3.6/dist-packages (from scikit-image<0.15,>=0.14->tensorlayer) (1.0.1)\n",
            "Requirement already satisfied: six>=1.10.0 in /usr/local/lib/python3.6/dist-packages (from scikit-image<0.15,>=0.14->tensorlayer) (1.11.0)\n",
            "Requirement already satisfied: cloudpickle>=0.2.1 in /usr/local/lib/python3.6/dist-packages (from scikit-image<0.15,>=0.14->tensorlayer) (0.6.1)\n",
            "Requirement already satisfied: networkx>=1.8 in /usr/local/lib/python3.6/dist-packages (from scikit-image<0.15,>=0.14->tensorlayer) (2.2)\n",
            "Requirement already satisfied: chardet<3.1.0,>=3.0.2 in /usr/local/lib/python3.6/dist-packages (from requests<2.21,>=2.19->tensorlayer) (3.0.4)\n",
            "Requirement already satisfied: idna<2.8,>=2.5 in /usr/local/lib/python3.6/dist-packages (from requests<2.21,>=2.19->tensorlayer) (2.6)\n",
            "Requirement already satisfied: certifi>=2017.4.17 in /usr/local/lib/python3.6/dist-packages (from requests<2.21,>=2.19->tensorlayer) (2018.11.29)\n",
            "Requirement already satisfied: urllib3<1.25,>=1.21.1 in /usr/local/lib/python3.6/dist-packages (from requests<2.21,>=2.19->tensorlayer) (1.22)\n",
            "Requirement already satisfied: python-utils>=2.3.0 in /usr/local/lib/python3.6/dist-packages (from progressbar2<3.39,>=3.38->tensorlayer) (2.3.0)\n",
            "Requirement already satisfied: setuptools in /usr/local/lib/python3.6/dist-packages (from kiwisolver>=1.0.1->matplotlib<3.1,>=2.2->tensorlayer) (40.6.3)\n",
            "Requirement already satisfied: olefile in /usr/local/lib/python3.6/dist-packages (from pillow->imageio<2.5,>=2.3->tensorlayer) (0.46)\n",
            "Requirement already satisfied: toolz>=0.7.3; extra == \"array\" in /usr/local/lib/python3.6/dist-packages (from dask[array]>=0.9.0->scikit-image<0.15,>=0.14->tensorlayer) (0.9.0)\n",
            "Requirement already satisfied: decorator>=4.3.0 in /usr/local/lib/python3.6/dist-packages (from networkx>=1.8->scikit-image<0.15,>=0.14->tensorlayer) (4.3.0)\n",
            "\u001b[31myellowbrick 0.9 has requirement matplotlib<3.0,>=1.5.1, but you'll have matplotlib 3.0.2 which is incompatible.\u001b[0m\n",
            "\u001b[31mscikit-image 0.14.1 has requirement pillow>=4.3.0, but you'll have pillow 4.0.0 which is incompatible.\u001b[0m\n",
            "\u001b[31mgoogle-colab 0.0.1a1 has requirement requests~=2.18.0, but you'll have requests 2.20.1 which is incompatible.\u001b[0m\n",
            "Installing collected packages: kiwisolver, matplotlib, scikit-image, requests, tensorlayer\n",
            "  Found existing installation: matplotlib 2.1.2\n",
            "    Uninstalling matplotlib-2.1.2:\n",
            "      Successfully uninstalled matplotlib-2.1.2\n",
            "  Found existing installation: scikit-image 0.13.1\n",
            "    Uninstalling scikit-image-0.13.1:\n",
            "      Successfully uninstalled scikit-image-0.13.1\n",
            "  Found existing installation: requests 2.18.4\n",
            "    Uninstalling requests-2.18.4:\n",
            "      Successfully uninstalled requests-2.18.4\n",
            "Successfully installed kiwisolver-1.0.1 matplotlib-3.0.2 requests-2.20.1 scikit-image-0.14.1 tensorlayer-1.11.1\n"
          ],
          "name": "stdout"
        }
      ]
    },
    {
      "metadata": {
        "id": "irgMSA3yKQhj",
        "colab_type": "code",
        "outputId": "23ed155b-501d-4727-a354-6fc89ba29248",
        "colab": {
          "base_uri": "https://localhost:8080/",
          "height": 104
        }
      },
      "cell_type": "code",
      "source": [
        "!python download.py celebA"
      ],
      "execution_count": 11,
      "outputs": [
        {
          "output_type": "stream",
          "text": [
            "download.py  ['celebA']\n",
            " download_celeb_a ./data\n",
            "save_path ./data/img_align_celeba.zip\n",
            "./data/img_align_celeba.zip: 44.1kB [00:10, 4.35kB/s]\n",
            "dirpath ./data  celebcount 1\n"
          ],
          "name": "stdout"
        }
      ]
    },
    {
      "metadata": {
        "id": "YWxvVimuLvxl",
        "colab_type": "code",
        "outputId": "c7212189-3a6c-4055-a7df-3d9fc755eb66",
        "colab": {
          "base_uri": "https://localhost:8080/",
          "height": 35
        }
      },
      "cell_type": "code",
      "source": [
        "!ls data"
      ],
      "execution_count": 12,
      "outputs": [
        {
          "output_type": "stream",
          "text": [
            "celebA\n"
          ],
          "name": "stdout"
        }
      ]
    },
    {
      "metadata": {
        "id": "SILb7PVrK2Hd",
        "colab_type": "code",
        "colab": {}
      },
      "cell_type": "code",
      "source": [
        "#!python main.py"
      ],
      "execution_count": 0,
      "outputs": []
    },
    {
      "metadata": {
        "id": "XPqV5X4WxDkX",
        "colab_type": "code",
        "colab": {}
      },
      "cell_type": "code",
      "source": [
        "\"\"\" TensorLayer implementation of Deep Convolutional Generative Adversarial Network (DCGAN).\n",
        "Using deep convolutional generative adversarial networks (DCGAN) \n",
        "to generate face images from a noise distribution.\n",
        "References:\n",
        "    -Generative Adversarial Nets.\n",
        "    Goodfellow et al. arXiv: 1406.2661.\n",
        "    - Unsupervised Representation Learning with Deep Convolutional \n",
        "    Generative Adversarial Networks. A Radford, L Metz, S Chintala. \n",
        "    arXiv: 1511.06434.\n",
        "Links:\n",
        "    - [GAN Paper](https://arxiv.org/pdf/1406.2661.pdf)\n",
        "    - [DCGAN Paper](https://arxiv.org/abs/1511.06434)\n",
        "Usage:\n",
        "    - See README.md\n",
        "\"\"\"\n",
        "import os\n",
        "import time\n",
        "\n",
        "import numpy as np\n",
        "import tensorflow as tf\n",
        "import tensorlayer as tl\n",
        "\n",
        "from glob import glob\n",
        "\n",
        "from utils import get_image\n",
        "from model import generator, discriminator\n",
        "\n",
        "# Define TF Flags\n",
        "flags = tf.app.flags\n",
        "flags.DEFINE_integer(\"epoch\", 25, \"Epoch to train [25]\")\n",
        "flags.DEFINE_float(\"learning_rate\", 0.0002, \"Learning rate of for adam [0.0002]\")\n",
        "flags.DEFINE_float(\"beta1\", 0.5, \"Momentum term of adam [0.5]\")\n",
        "flags.DEFINE_float(\"train_size\", np.inf, \"The size of train images [np.inf]\")\n",
        "flags.DEFINE_integer(\"batch_size\", 64, \"The number of batch images [64]\")\n",
        "flags.DEFINE_integer(\"image_size\", 108, \"The size of image to use (will be center cropped) [108]\")\n",
        "flags.DEFINE_integer(\"output_size\", 64, \"The size of the output images to produce [64]\")\n",
        "flags.DEFINE_integer(\"sample_size\", 64, \"The number of sample images [64]\")\n",
        "flags.DEFINE_integer(\"c_dim\", 3, \"Dimension of image color. [3]\")\n",
        "flags.DEFINE_integer(\"sample_step\", 500, \"The interval of generating sample. [500]\")\n",
        "flags.DEFINE_integer(\"save_step\", 500, \"The interval of saveing checkpoints. [500]\")\n",
        "flags.DEFINE_string(\"dataset\", \"celebA\", \"The name of dataset [celebA, mnist, lsun]\")\n",
        "flags.DEFINE_string(\"checkpoint_dir\", \"checkpoint\", \"Directory name to save the checkpoints [checkpoint]\")\n",
        "flags.DEFINE_string(\"sample_dir\", \"samples\", \"Directory name to save the image samples [samples]\")\n",
        "flags.DEFINE_boolean(\"is_train\", False, \"True for training, False for testing [False]\")\n",
        "flags.DEFINE_boolean(\"is_crop\", True, \"True for training, False for testing [False]\")\n",
        "flags.DEFINE_boolean(\"visualize\", False, \"True for visualizing, False for nothing [False]\")\n",
        "FLAGS = flags.FLAGS"
      ],
      "execution_count": 0,
      "outputs": []
    },
    {
      "metadata": {
        "id": "1uyGokr-xKML",
        "colab_type": "text"
      },
      "cell_type": "markdown",
      "source": [
        ""
      ]
    },
    {
      "metadata": {
        "id": "mTxweft7xWJX",
        "colab_type": "code",
        "colab": {}
      },
      "cell_type": "code",
      "source": [
        "def main(_):\n",
        "    assert np.sqrt(FLAGS.sample_size) % 1 == 0., 'Flag `sample_size` needs to be a perfect square'\n",
        "    num_tiles = int(np.sqrt(FLAGS.sample_size))\n",
        "\n",
        "    # Print flags\n",
        "    for flag, _ in FLAGS.__flags.items():\n",
        "        print('\"{}\": {}'.format(flag, getattr(FLAGS, flag)))\n",
        "    print(\"--------------------\")\n",
        "\n",
        "    # Configure checkpoint/samples dir\n",
        "    tl.files.exists_or_mkdir(FLAGS.checkpoint_dir)\n",
        "    tl.files.exists_or_mkdir(FLAGS.sample_dir)\n",
        "\n",
        "    z_dim = 100 # noise dim\n",
        "\n",
        "    # Construct graph on GPU\n",
        "    with tf.device(\"/gpu:0\"):\n",
        "\n",
        "        \"\"\" Define Models \"\"\"\n",
        "        z = tf.placeholder(tf.float32, [None, z_dim], name='z_noise')\n",
        "        real_images =  tf.placeholder(tf.float32, [None, FLAGS.output_size, FLAGS.output_size, FLAGS.c_dim], name='real_images')\n",
        "\n",
        "        # Input noise into generator for training\n",
        "        net_g = generator(z, is_train=True, reuse=False)\n",
        "\n",
        "        # Input real and generated fake images into discriminator for training\n",
        "        net_d, d_logits = discriminator(net_g.outputs, is_train=True, reuse=False)\n",
        "        _, d2_logits = discriminator(real_images, is_train=True, reuse=True)\n",
        "\n",
        "        # Input noise into generator for evaluation\n",
        "        # set is_train to False so that BatchNormLayer behave differently\n",
        "        net_g2 = generator(z, is_train=False, reuse=True)\n",
        "\n",
        "        \"\"\" Define Training Operations \"\"\"\n",
        "        # discriminator: real images are labelled as 1\n",
        "        d_loss_real = tl.cost.sigmoid_cross_entropy(d2_logits, tf.ones_like(d2_logits), name='dreal')\n",
        "        # discriminator: images from generator (fake) are labelled as 0\n",
        "        d_loss_fake = tl.cost.sigmoid_cross_entropy(d_logits, tf.zeros_like(d_logits), name='dfake')\n",
        "        # cost for updating discriminator\n",
        "        d_loss = d_loss_real + d_loss_fake\n",
        "\n",
        "        # generator: try to make the the fake images look real (1)\n",
        "        g_loss = tl.cost.sigmoid_cross_entropy(d_logits, tf.ones_like(d_logits), name='gfake')\n",
        "\n",
        "        g_vars = tl.layers.get_variables_with_name('generator', True, True)\n",
        "        d_vars = tl.layers.get_variables_with_name('discriminator', True, True)\n",
        "\n",
        "        # Define optimizers for updating discriminator and generator\n",
        "        d_optim = tf.train.AdamOptimizer(FLAGS.learning_rate, beta1=FLAGS.beta1) \\\n",
        "                          .minimize(d_loss, var_list=d_vars)\n",
        "        g_optim = tf.train.AdamOptimizer(FLAGS.learning_rate, beta1=FLAGS.beta1) \\\n",
        "                          .minimize(g_loss, var_list=g_vars)\n",
        "\n",
        "    # Init Session\n",
        "    sess = tf.InteractiveSession()\n",
        "    sess.run(tf.global_variables_initializer())\n",
        "\n",
        "    model_dir = \"%s_%s_%s\" % (FLAGS.dataset, FLAGS.batch_size, FLAGS.output_size)\n",
        "    save_dir = os.path.join(FLAGS.checkpoint_dir, model_dir)\n",
        "    tl.files.exists_or_mkdir(FLAGS.sample_dir)\n",
        "    tl.files.exists_or_mkdir(save_dir)\n",
        "\n",
        "    # load the latest checkpoints\n",
        "    net_g_name = os.path.join(save_dir, 'net_g.npz')\n",
        "    net_d_name = os.path.join(save_dir, 'net_d.npz')\n",
        "\n",
        "    data_files = np.array(glob(os.path.join(\"./data\", FLAGS.dataset, \"*.jpg\")))\n",
        "    num_files = len(data_files)\n",
        "\n",
        "    # Mini-batch generator\n",
        "    def iterate_minibatches(batch_size, shuffle=True):\n",
        "        if shuffle:\n",
        "            indices = np.random.permutation(num_files)\n",
        "        for start_idx in range(0, num_files - batch_size + 1, batch_size):\n",
        "            if shuffle:\n",
        "                excerpt = indices[start_idx: start_idx + batch_size]\n",
        "            else:\n",
        "                excerpt = slice(start_idx, start_idx + batch_size)\n",
        "            # Get real images (more image augmentation functions at [http://tensorlayer.readthedocs.io/en/latest/modules/prepro.html])\n",
        "            yield np.array([get_image(file, FLAGS.image_size, is_crop=FLAGS.is_crop, resize_w=FLAGS.output_size, is_grayscale = 0) \n",
        "                            for file in data_files[excerpt]]).astype(np.float32)\n",
        "\n",
        "    batch_steps = min(num_files, FLAGS.train_size) // FLAGS.batch_size\n",
        "\n",
        "    # sample noise\n",
        "    sample_seed = np.random.normal(loc=0.0, scale=1.0, size=(FLAGS.sample_size, z_dim)).astype(np.float32)\n",
        "\n",
        "    \"\"\" Training models \"\"\"\n",
        "    iter_counter = 0\n",
        "    for epoch in range(FLAGS.epoch):\n",
        "\n",
        "        sample_images = next(iterate_minibatches(FLAGS.sample_size))\n",
        "        print(\"[*] Sample images updated!\")\n",
        "        \n",
        "        steps = 0\n",
        "        for batch_images in iterate_minibatches(FLAGS.batch_size):\n",
        "\n",
        "            batch_z = np.random.normal(loc=0.0, scale=1.0, size=(FLAGS.batch_size, z_dim)).astype(np.float32)\n",
        "            start_time = time.time()\n",
        "            \n",
        "            # Updates the Discriminator(D)\n",
        "            errD, _ = sess.run([d_loss, d_optim], feed_dict={z: batch_z, real_images: batch_images})\n",
        "            \n",
        "            # Updates the Generator(G)\n",
        "            # run generator twice to make sure that d_loss does not go to zero (different from paper)\n",
        "            for _ in range(2):\n",
        "                errG, _ = sess.run([g_loss, g_optim], feed_dict={z: batch_z})\n",
        "            \n",
        "            end_time = time.time() - start_time\n",
        "            print(\"Epoch: [%2d/%2d] [%4d/%4d] time: %4.4f, d_loss: %.8f, g_loss: %.8f\" \\\n",
        "                    % (epoch, FLAGS.epoch, steps, batch_steps, end_time, errD, errG))\n",
        "\n",
        "            iter_counter += 1\n",
        "            if np.mod(iter_counter, FLAGS.sample_step) == 0:\n",
        "                # Generate images\n",
        "                img, errD, errG = sess.run([net_g2.outputs, d_loss, g_loss], feed_dict={z: sample_seed, real_images: sample_images})\n",
        "                # Visualize generated images\n",
        "                tl.visualize.save_images(img, [num_tiles, num_tiles], './{}/train_{:02d}_{:04d}.png'.format(FLAGS.sample_dir, epoch, steps))\n",
        "                print(\"[Sample] d_loss: %.8f, g_loss: %.8f\" % (errD, errG))\n",
        "\n",
        "            if np.mod(iter_counter, FLAGS.save_step) == 0:\n",
        "                # Save current network parameters\n",
        "                print(\"[*] Saving checkpoints...\")\n",
        "                tl.files.save_npz(net_g.all_params, name=net_g_name, sess=sess)\n",
        "                tl.files.save_npz(net_d.all_params, name=net_d_name, sess=sess)\n",
        "                print(\"[*] Saving checkpoints SUCCESS!\")\n",
        "\n",
        "            steps += 1\n",
        "\n",
        "    sess.close()\n"
      ],
      "execution_count": 0,
      "outputs": []
    },
    {
      "metadata": {
        "id": "nrpLS_tUxaCs",
        "colab_type": "code",
        "colab": {
          "base_uri": "https://localhost:8080/",
          "height": 1993
        },
        "outputId": "c7812410-9678-4df8-fde6-e164d5c728da"
      },
      "cell_type": "code",
      "source": [
        "if __name__ == '__main__':\n",
        "    try:\n",
        "        tf.app.run()\n",
        "    except KeyboardInterrupt:\n",
        "        print('EXIT')"
      ],
      "execution_count": 18,
      "outputs": [
        {
          "output_type": "stream",
          "text": [
            "\"epoch\": 25\n",
            "\"learning_rate\": 0.0002\n",
            "\"beta1\": 0.5\n",
            "\"train_size\": inf\n",
            "\"batch_size\": 64\n",
            "\"image_size\": 108\n",
            "\"output_size\": 64\n",
            "\"sample_size\": 64\n",
            "\"c_dim\": 3\n",
            "\"sample_step\": 500\n",
            "\"save_step\": 500\n",
            "\"dataset\": celebA\n",
            "\"checkpoint_dir\": checkpoint\n",
            "\"sample_dir\": samples\n",
            "\"is_train\": False\n",
            "\"is_crop\": True\n",
            "\"visualize\": False\n",
            "\"h\": False\n",
            "\"help\": False\n",
            "\"helpfull\": False\n",
            "\"helpshort\": False\n",
            "--------------------\n",
            "[TL] [*] creates checkpoint ...\n",
            "[TL] [*] creates samples ...\n",
            "[TL] InputLayer  generator/g/in: (?, 100)\n",
            "[TL] DenseLayer  generator/g/h0/lin: 8192 No Activation\n",
            "[TL] ReshapeLayer generator/g/h0/reshape: (?, 4, 4, 512)\n",
            "[TL] BatchNormLayer generator/g/h0/batch_norm: decay: 0.900000 epsilon: 0.000010 act: relu is_train: True\n",
            "[TL] DeConv2d generator/g/h1/decon2d: n_filters: 256 strides: (2, 2) pad: SAME act: No Activation\n",
            "[TL] BatchNormLayer generator/g/h1/batch_norm: decay: 0.900000 epsilon: 0.000010 act: relu is_train: True\n",
            "[TL] DeConv2d generator/g/h2/decon2d: n_filters: 128 strides: (2, 2) pad: SAME act: No Activation\n",
            "[TL] BatchNormLayer generator/g/h2/batch_norm: decay: 0.900000 epsilon: 0.000010 act: relu is_train: True\n",
            "[TL] DeConv2d generator/g/h3/decon2d: n_filters: 64 strides: (2, 2) pad: SAME act: No Activation\n",
            "[TL] BatchNormLayer generator/g/h3/batch_norm: decay: 0.900000 epsilon: 0.000010 act: relu is_train: True\n",
            "[TL] DeConv2d generator/g/h4/decon2d: n_filters: 3 strides: (2, 2) pad: SAME act: No Activation\n",
            "[TL] InputLayer  discriminator/d/in: (?, 64, 64, 3)\n",
            "[TL] Conv2d discriminator/d/h0/conv2d: n_filter: 64 filter_size: (5, 5) strides: (2, 2) pad: SAME act: <lambda>\n",
            "[TL] Conv2d discriminator/d/h1/conv2d: n_filter: 128 filter_size: (5, 5) strides: (2, 2) pad: SAME act: No Activation\n",
            "[TL] BatchNormLayer discriminator/d/h1/batch_norm: decay: 0.900000 epsilon: 0.000010 act: <lambda> is_train: True\n",
            "[TL] Conv2d discriminator/d/h2/conv2d: n_filter: 256 filter_size: (5, 5) strides: (2, 2) pad: SAME act: No Activation\n",
            "[TL] BatchNormLayer discriminator/d/h2/batch_norm: decay: 0.900000 epsilon: 0.000010 act: <lambda> is_train: True\n",
            "[TL] Conv2d discriminator/d/h3/conv2d: n_filter: 512 filter_size: (5, 5) strides: (2, 2) pad: SAME act: No Activation\n",
            "[TL] BatchNormLayer discriminator/d/h3/batch_norm: decay: 0.900000 epsilon: 0.000010 act: <lambda> is_train: True\n",
            "[TL] FlattenLayer discriminator/d/h4/flatten: 8192\n",
            "[TL] DenseLayer  discriminator/d/h4/lin_sigmoid: 1 No Activation\n",
            "[TL] InputLayer  discriminator/d/in: (?, 64, 64, 3)\n",
            "[TL] Conv2d discriminator/d/h0/conv2d: n_filter: 64 filter_size: (5, 5) strides: (2, 2) pad: SAME act: <lambda>\n",
            "[TL] Conv2d discriminator/d/h1/conv2d: n_filter: 128 filter_size: (5, 5) strides: (2, 2) pad: SAME act: No Activation\n",
            "[TL] BatchNormLayer discriminator/d/h1/batch_norm: decay: 0.900000 epsilon: 0.000010 act: <lambda> is_train: True\n",
            "[TL] Conv2d discriminator/d/h2/conv2d: n_filter: 256 filter_size: (5, 5) strides: (2, 2) pad: SAME act: No Activation\n",
            "[TL] BatchNormLayer discriminator/d/h2/batch_norm: decay: 0.900000 epsilon: 0.000010 act: <lambda> is_train: True\n",
            "[TL] Conv2d discriminator/d/h3/conv2d: n_filter: 512 filter_size: (5, 5) strides: (2, 2) pad: SAME act: No Activation\n",
            "[TL] BatchNormLayer discriminator/d/h3/batch_norm: decay: 0.900000 epsilon: 0.000010 act: <lambda> is_train: True\n",
            "[TL] FlattenLayer discriminator/d/h4/flatten: 8192\n",
            "[TL] DenseLayer  discriminator/d/h4/lin_sigmoid: 1 No Activation\n",
            "[TL] InputLayer  generator/g/in: (?, 100)\n",
            "[TL] DenseLayer  generator/g/h0/lin: 8192 No Activation\n",
            "[TL] ReshapeLayer generator/g/h0/reshape: (?, 4, 4, 512)\n",
            "[TL] BatchNormLayer generator/g/h0/batch_norm: decay: 0.900000 epsilon: 0.000010 act: relu is_train: False\n",
            "[TL] DeConv2d generator/g/h1/decon2d: n_filters: 256 strides: (2, 2) pad: SAME act: No Activation\n",
            "[TL] BatchNormLayer generator/g/h1/batch_norm: decay: 0.900000 epsilon: 0.000010 act: relu is_train: False\n",
            "[TL] DeConv2d generator/g/h2/decon2d: n_filters: 128 strides: (2, 2) pad: SAME act: No Activation\n",
            "[TL] BatchNormLayer generator/g/h2/batch_norm: decay: 0.900000 epsilon: 0.000010 act: relu is_train: False\n",
            "[TL] DeConv2d generator/g/h3/decon2d: n_filters: 64 strides: (2, 2) pad: SAME act: No Activation\n",
            "[TL] BatchNormLayer generator/g/h3/batch_norm: decay: 0.900000 epsilon: 0.000010 act: relu is_train: False\n",
            "[TL] DeConv2d generator/g/h4/decon2d: n_filters: 3 strides: (2, 2) pad: SAME act: No Activation\n",
            "[TL]   [*] geting variables with generator\n",
            "[TL]   got   0: generator/g/h0/lin/W:0   (100, 8192)\n",
            "[TL]   got   1: generator/g/h0/lin/b:0   (8192,)\n",
            "[TL]   got   2: generator/g/h0/batch_norm/beta:0   (512,)\n",
            "[TL]   got   3: generator/g/h0/batch_norm/gamma:0   (512,)\n",
            "[TL]   got   4: generator/g/h1/decon2d/kernel:0   (5, 5, 256, 512)\n",
            "[TL]   got   5: generator/g/h1/decon2d/bias:0   (256,)\n",
            "[TL]   got   6: generator/g/h1/batch_norm/beta:0   (256,)\n",
            "[TL]   got   7: generator/g/h1/batch_norm/gamma:0   (256,)\n",
            "[TL]   got   8: generator/g/h2/decon2d/kernel:0   (5, 5, 128, 256)\n",
            "[TL]   got   9: generator/g/h2/decon2d/bias:0   (128,)\n",
            "[TL]   got  10: generator/g/h2/batch_norm/beta:0   (128,)\n",
            "[TL]   got  11: generator/g/h2/batch_norm/gamma:0   (128,)\n",
            "[TL]   got  12: generator/g/h3/decon2d/kernel:0   (5, 5, 64, 128)\n",
            "[TL]   got  13: generator/g/h3/decon2d/bias:0   (64,)\n",
            "[TL]   got  14: generator/g/h3/batch_norm/beta:0   (64,)\n",
            "[TL]   got  15: generator/g/h3/batch_norm/gamma:0   (64,)\n",
            "[TL]   got  16: generator/g/h4/decon2d/kernel:0   (5, 5, 3, 64)\n",
            "[TL]   got  17: generator/g/h4/decon2d/bias:0   (3,)\n",
            "[TL]   [*] geting variables with discriminator\n",
            "[TL]   got   0: discriminator/d/h0/conv2d/kernel:0   (5, 5, 3, 64)\n",
            "[TL]   got   1: discriminator/d/h0/conv2d/bias:0   (64,)\n",
            "[TL]   got   2: discriminator/d/h1/conv2d/kernel:0   (5, 5, 64, 128)\n",
            "[TL]   got   3: discriminator/d/h1/conv2d/bias:0   (128,)\n",
            "[TL]   got   4: discriminator/d/h1/batch_norm/beta:0   (128,)\n",
            "[TL]   got   5: discriminator/d/h1/batch_norm/gamma:0   (128,)\n",
            "[TL]   got   6: discriminator/d/h2/conv2d/kernel:0   (5, 5, 128, 256)\n",
            "[TL]   got   7: discriminator/d/h2/conv2d/bias:0   (256,)\n",
            "[TL]   got   8: discriminator/d/h2/batch_norm/beta:0   (256,)\n",
            "[TL]   got   9: discriminator/d/h2/batch_norm/gamma:0   (256,)\n",
            "[TL]   got  10: discriminator/d/h3/conv2d/kernel:0   (5, 5, 256, 512)\n",
            "[TL]   got  11: discriminator/d/h3/conv2d/bias:0   (512,)\n",
            "[TL]   got  12: discriminator/d/h3/batch_norm/beta:0   (512,)\n",
            "[TL]   got  13: discriminator/d/h3/batch_norm/gamma:0   (512,)\n",
            "[TL]   got  14: discriminator/d/h4/lin_sigmoid/W:0   (8192, 1)\n",
            "[TL]   got  15: discriminator/d/h4/lin_sigmoid/b:0   (1,)\n",
            "[TL] [!] samples exists ...\n",
            "[TL] [*] creates checkpoint/celebA_64_64 ...\n",
            "[*] Sample images updated!\n",
            "Epoch: [ 0/25] [   0/3165] time: 3.6385, d_loss: 1.14481664, g_loss: 1.05151486\n",
            "Epoch: [ 0/25] [   1/3165] time: 0.5496, d_loss: 2.96664405, g_loss: 3.61818671\n",
            "Epoch: [ 0/25] [   2/3165] time: 0.5760, d_loss: 1.49171340, g_loss: 2.52734113\n",
            "Epoch: [ 0/25] [   3/3165] time: 0.5633, d_loss: 2.97435856, g_loss: 6.53272629\n",
            "Epoch: [ 0/25] [   4/3165] time: 0.5581, d_loss: 1.41111112, g_loss: 1.64382541\n",
            "Epoch: [ 0/25] [   5/3165] time: 0.5740, d_loss: 4.35045147, g_loss: 10.12502098\n",
            "Epoch: [ 0/25] [   6/3165] time: 0.5676, d_loss: 1.61222661, g_loss: 0.61839843\n",
            "Epoch: [ 0/25] [   7/3165] time: 0.5647, d_loss: 4.72505999, g_loss: 10.88079643\n",
            "EXIT\n"
          ],
          "name": "stdout"
        }
      ]
    },
    {
      "metadata": {
        "id": "qLLTHAeryZlu",
        "colab_type": "code",
        "colab": {
          "base_uri": "https://localhost:8080/",
          "height": 69
        },
        "outputId": "0b094591-3ff0-484d-ce25-c655a01e9204"
      },
      "cell_type": "code",
      "source": [
        "!cd img\n",
        "!ls\n"
      ],
      "execution_count": 22,
      "outputs": [
        {
          "output_type": "stream",
          "text": [
            "checkpoint   img       __pycache__  samples\t utils.py\n",
            "data\t     main.py   README.md    start\n",
            "download.py  model.py  sample_data  start.ipynb\n"
          ],
          "name": "stdout"
        }
      ]
    }
  ]
}